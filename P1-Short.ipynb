{
 "cells": [
  {
   "cell_type": "code",
   "execution_count": 13,
   "metadata": {},
   "outputs": [
    {
     "name": "stdout",
     "output_type": "stream",
     "text": [
      "[['Sunny', 'Warm', 'Normal', 'Strong', 'Warm', 'Same', 'Yes'], ['Sunny', 'Warm', 'High', 'Strong', 'Warm', 'Same', 'Yes'], ['Rainy', 'Cold', 'High', 'Strong', 'Warm', 'Same', 'No'], ['Sunny', 'Warm', 'High', 'Strong', 'Cool', 'Change', 'Yes']] \n",
      "\n",
      "Hypothesis =  ['Sunny', 'Warm', '?', 'Strong', '?', '?']\n"
     ]
    }
   ],
   "source": [
    "import csv\n",
    "with open(\"Ex01.csv\",\"r\") as f:\n",
    "    reader = csv.reader(f)\n",
    "    data = list(reader)\n",
    "print(data,\"\\n\")\n",
    "h = ['0','0','0','0','0','0'];\n",
    "for row in data:\n",
    "    if row[-1] == \"Yes\":\n",
    "        j=0;\n",
    "        for cell_val in row:\n",
    "            if cell_val != \"Yes\":\n",
    "                if cell_val != h[j] and h[j] =='0':\n",
    "                    h[j] = cell_val;\n",
    "                elif cell_val!=h[j] and h[j]!='0':\n",
    "                    h[j]= \"?\";\n",
    "            j=j+1;      \n",
    "print(\"Hypothesis = \", h)"
   ]
  },
  {
   "cell_type": "code",
   "execution_count": null,
   "metadata": {},
   "outputs": [],
   "source": []
  }
 ],
 "metadata": {
  "kernelspec": {
   "display_name": "Python 3",
   "language": "python",
   "name": "python3"
  },
  "language_info": {
   "codemirror_mode": {
    "name": "ipython",
    "version": 3
   },
   "file_extension": ".py",
   "mimetype": "text/x-python",
   "name": "python",
   "nbconvert_exporter": "python",
   "pygments_lexer": "ipython3",
   "version": "3.8.3"
  }
 },
 "nbformat": 4,
 "nbformat_minor": 4
}
