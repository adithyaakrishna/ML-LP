{
 "cells": [
  {
   "cell_type": "code",
   "execution_count": 7,
   "metadata": {},
   "outputs": [
    {
     "name": "stdout",
     "output_type": "stream",
     "text": [
      "<_csv.reader object at 0x000002726F353760>\n",
      "\n",
      "The given training examples are:\n",
      "['Sunny', 'Warm', 'Normal', 'Strong', 'Warm', 'Same', 'Yes']\n",
      "['Sunny', 'Warm', 'High', 'Strong', 'Warm', 'Same', 'Yes']\n",
      "['Rainy', 'Cold', 'High', 'Strong', 'Warm', 'Same', 'No']\n",
      "['Sunny', 'Warm', 'High', 'Strong', 'Cool', 'Change', 'Yes']\n",
      "\n",
      "The positive examples are:\n",
      "['Sunny', 'Warm', 'Normal', 'Strong', 'Warm', 'Same', 'Yes']\n",
      "['Sunny', 'Warm', 'High', 'Strong', 'Warm', 'Same', 'Yes']\n",
      "['Sunny', 'Warm', 'High', 'Strong', 'Cool', 'Change', 'Yes']\n",
      "\n",
      "\n",
      "The steps of the Find-s algorithm are\n",
      " ['%', '%', '%', '%', '%', '%']\n",
      "0 ['Sunny', 'Warm', 'Normal', 'Strong', 'Warm', 'Same']\n",
      "1 ['Sunny', 'Warm', '?', 'Strong', 'Warm', 'Same']\n",
      "2 ['Sunny', 'Warm', '?', 'Strong', '?', '?']\n",
      "\n",
      "The maximally specific Find-s hypothesis for the given training examples is\n",
      "['Sunny', 'Warm', '?', 'Strong', '?', '?']\n"
     ]
    }
   ],
   "source": [
    "import csv\n",
    "hypo=['%','%','%','%','%','%'];\n",
    "with open('Ex01.csv') as csv_file:\n",
    "    readcsv = csv.reader(csv_file, delimiter=',')\n",
    "    print(readcsv)\n",
    "    data = []\n",
    "    print(\"\\nThe given training examples are:\")\n",
    "    for row in readcsv:\n",
    "        print(row)\n",
    "        if row[len(row)-1].upper() == \"YES\":\n",
    "            data.append(row)\n",
    "print(\"\\nThe positive examples are:\");\n",
    "for x in data:\n",
    "    print(x)\n",
    "print(\"\\n\")\n",
    "TotalExamples = len(data)\n",
    "i=0\n",
    "j=0\n",
    "k=0\n",
    "print(\"The steps of the Find-s algorithm are\\n\",hypo)\n",
    "list = []\n",
    "p=0\n",
    "d=len(data[p])-1\n",
    "for j in range(d):\n",
    "    list.append(data[i][j])\n",
    "hypo=list\n",
    "for i in range(TotalExamples):\n",
    "    for k in range(d):\n",
    "        if hypo[k]!=data[i][k]:\n",
    "            hypo[k]='?'\n",
    "        else:\n",
    "            hypo[k]\n",
    "    print(i,hypo)\n",
    "print(\"\\nThe maximally specific Find-s hypothesis for the given training examples is\")\n",
    "print(hypo)\n"
   ]
  },
  {
   "cell_type": "code",
   "execution_count": null,
   "metadata": {},
   "outputs": [],
   "source": []
  }
 ],
 "metadata": {
  "kernelspec": {
   "display_name": "Python 3",
   "language": "python",
   "name": "python3"
  },
  "language_info": {
   "codemirror_mode": {
    "name": "ipython",
    "version": 3
   },
   "file_extension": ".py",
   "mimetype": "text/x-python",
   "name": "python",
   "nbconvert_exporter": "python",
   "pygments_lexer": "ipython3",
   "version": "3.8.3"
  }
 },
 "nbformat": 4,
 "nbformat_minor": 4
}
