{
 "cells": [
  {
   "cell_type": "markdown",
   "metadata": {},
   "source": [
    "### Program - 1\n",
    "#### Question: Implement and demonstrate the FIND-S algorithm for finding the most specific hypothesis based on a given set of training data samples. Read the training data from a .CSV file."
   ]
  },
  {
   "cell_type": "code",
   "execution_count": 1,
   "metadata": {},
   "outputs": [
    {
     "name": "stdout",
     "output_type": "stream",
     "text": [
      "[['Sunny', 'Warm', 'Normal', 'Strong', 'Warm', 'Same', 'Yes'], ['Sunny', 'Warm', 'High', 'Strong', 'Warm', 'Same', 'Yes'], ['Rainy', 'Cold', 'High', 'Strong', 'Warm', 'Same', 'No'], ['Sunny', 'Warm', 'High', 'Strong', 'Cool', 'Change', 'Yes']] \n",
      "\n",
      "['Sunny', 'Warm', '?', 'Strong', '?', '?']\n"
     ]
    }
   ],
   "source": [
    "import csv\n",
    "with open(\"Ex01.csv\",\"r\") as f:\n",
    "    reader=csv.reader(f)\n",
    "    data=list(reader)\n",
    "print(data,\"\\n\")\n",
    "h=['0','0','0','0','0','0']\n",
    "for row in data:\n",
    "    if row[-1]==\"Yes\":\n",
    "        j=0\n",
    "        for cell_val in row:\n",
    "            if cell_val != \"Yes\":\n",
    "                if cell_val != h[j] and h[j]=='0':\n",
    "                    h[j]=cell_val\n",
    "                elif cell_val != h[j] and h[j]!='0':\n",
    "                    h[j]=\"?\"\n",
    "            j=j+1\n",
    "print(h)"
   ]
  },
  {
   "cell_type": "markdown",
   "metadata": {},
   "source": [
    "### Program - 2\n",
    "#### Question: For a given set of training data examples stored in a .CSV file, implement and Demonstrate the Candidate-Elimination algorithm to output a description of the set of all hypotheses consistent with the training examples."
   ]
  },
  {
   "cell_type": "code",
   "execution_count": 2,
   "metadata": {},
   "outputs": [
    {
     "name": "stdout",
     "output_type": "stream",
     "text": [
      "['Sunny' 'Warm' 'High' 'Strong' 'Warm' 'Same']\n",
      "[['?', '?', '?', '?', '?', '?'], ['?', '?', '?', '?', '?', '?'], ['?', '?', '?', '?', '?', '?'], ['?', '?', '?', '?', '?', '?'], ['?', '?', '?', '?', '?', '?'], ['?', '?', '?', '?', '?', '?']]\n",
      "1\n",
      "['Sunny' 'Warm' 'High' 'Strong' 'Warm' 'Same']\n",
      "[['?', '?', '?', '?', '?', '?'], ['?', '?', '?', '?', '?', '?'], ['?', '?', '?', '?', '?', '?'], ['?', '?', '?', '?', '?', '?'], ['?', '?', '?', '?', '?', '?'], ['?', '?', '?', '?', '?', '?']]\n",
      "2\n",
      "['Sunny' 'Warm' 'High' 'Strong' 'Warm' 'Same']\n",
      "[['Sunny', '?', '?', '?', '?', '?'], ['?', 'Warm', '?', '?', '?', '?'], ['?', '?', '?', '?', '?', '?'], ['?', '?', '?', '?', '?', '?'], ['?', '?', '?', '?', '?', '?'], ['?', '?', '?', '?', '?', '?']]\n",
      "3\n",
      "['Sunny' 'Warm' 'High' 'Strong' '?' '?']\n",
      "[['Sunny', '?', '?', '?', '?', '?'], ['?', 'Warm', '?', '?', '?', '?'], ['?', '?', '?', '?', '?', '?'], ['?', '?', '?', '?', '?', '?'], ['?', '?', '?', '?', '?', '?'], ['?', '?', '?', '?', '?', '?']]\n",
      "['Sunny' 'Warm' 'High' 'Strong' '?' '?']\n",
      "[['Sunny', '?', '?', '?', '?', '?'], ['?', 'Warm', '?', '?', '?', '?']]\n"
     ]
    }
   ],
   "source": [
    "import numpy as np\n",
    "import pandas as pd\n",
    "data1=pd.read_csv('Ex02.csv')\n",
    "concepts=np.array(data1.iloc[:,0:-1])\n",
    "target=np.array(data1.iloc[:,-1])\n",
    "def learn(concepts, target):\n",
    "    s_h=concepts[0].copy()\n",
    "    print(s_h)\n",
    "    g_h=[[\"?\" for i in range(len(s_h))]\n",
    "        for i in range(len(s_h))]\n",
    "    print(g_h)\n",
    "    for i, h in enumerate(concepts):\n",
    "        if target[i]==\"Yes\":\n",
    "            for x in range(len(s_h)):\n",
    "                if h[x]!=s_h[x]:\n",
    "                    s_h[x]='?'\n",
    "                    g_h[x][x]='?'\n",
    "        if target[i]==\"No\":\n",
    "            for x in range(len(s_h)):\n",
    "                if h[x]!=s_h[x]:\n",
    "                    g_h[x][x]=s_h[x]\n",
    "                else:\n",
    "                    g_h[x][x]='?'\n",
    "        print(i+1)\n",
    "        print(s_h)\n",
    "        print(g_h)\n",
    "    indices=[i for i, val in enumerate(g_h) if val == ['?', '?', '?', '?', '?', '?']]\n",
    "    for i in indices:\n",
    "        g_h.remove(['?', '?', '?', '?', '?', '?'])\n",
    "    return s_h,g_h\n",
    "s_f, g_f = learn(concepts, target)\n",
    "print(s_f)\n",
    "print(g_f)"
   ]
  },
  {
   "cell_type": "markdown",
   "metadata": {},
   "source": [
    "### Program - 6\n",
    "#### Question: Assuming a set of documents that need to be classified, use the naïve Bayesian Classifier model to perform this task. Built-in Java classes/API can be used to write the program. Calculate the accuracy, precision, and recall for your data set."
   ]
  },
  {
   "cell_type": "code",
   "execution_count": 3,
   "metadata": {},
   "outputs": [
    {
     "name": "stdout",
     "output_type": "stream",
     "text": [
      "5\n",
      "0.7738980350504514\n",
      "0.7738980350504514\n",
      "[0.80193237 0.81028939 0.81904762 0.67180617 0.85632184 0.88955224\n",
      " 0.93127148 0.84651163 0.93686869 0.92248062 0.89170507 0.59379845\n",
      " 0.83629893 0.92113565 0.84172662 0.43896976 0.64339623 0.92972973\n",
      " 0.95555556 0.97222222]\n",
      "[0.52037618 0.64781491 0.65482234 0.77806122 0.77402597 0.75443038\n",
      " 0.69487179 0.91919192 0.9321608  0.89924433 0.96992481 0.96717172\n",
      " 0.59796438 0.73737374 0.89086294 0.98492462 0.93681319 0.91489362\n",
      " 0.41612903 0.13944223]\n",
      "                          precision    recall  f1-score   support\n",
      "\n",
      "             alt.atheism       0.80      0.52      0.63       319\n",
      "           comp.graphics       0.81      0.65      0.72       389\n",
      " comp.os.ms-windows.misc       0.82      0.65      0.73       394\n",
      "comp.sys.ibm.pc.hardware       0.67      0.78      0.72       392\n",
      "   comp.sys.mac.hardware       0.86      0.77      0.81       385\n",
      "          comp.windows.x       0.89      0.75      0.82       395\n",
      "            misc.forsale       0.93      0.69      0.80       390\n",
      "               rec.autos       0.85      0.92      0.88       396\n",
      "         rec.motorcycles       0.94      0.93      0.93       398\n",
      "      rec.sport.baseball       0.92      0.90      0.91       397\n",
      "        rec.sport.hockey       0.89      0.97      0.93       399\n",
      "               sci.crypt       0.59      0.97      0.74       396\n",
      "         sci.electronics       0.84      0.60      0.70       393\n",
      "                 sci.med       0.92      0.74      0.82       396\n",
      "               sci.space       0.84      0.89      0.87       394\n",
      "  soc.religion.christian       0.44      0.98      0.61       398\n",
      "      talk.politics.guns       0.64      0.94      0.76       364\n",
      "   talk.politics.mideast       0.93      0.91      0.92       376\n",
      "      talk.politics.misc       0.96      0.42      0.58       310\n",
      "      talk.religion.misc       0.97      0.14      0.24       251\n",
      "\n",
      "                accuracy                           0.77      7532\n",
      "               macro avg       0.83      0.76      0.76      7532\n",
      "            weighted avg       0.82      0.77      0.77      7532\n",
      "\n"
     ]
    }
   ],
   "source": [
    "from sklearn.datasets import fetch_20newsgroups\n",
    "from sklearn.feature_extraction.text import CountVectorizer\n",
    "from sklearn.feature_extraction.text import TfidfTransformer\n",
    "from sklearn.pipeline import Pipeline\n",
    "from sklearn.naive_bayes import MultinomialNB\n",
    "import numpy as np\n",
    "import pandas as pd\n",
    "from sklearn import metrics\n",
    "twenty_train=fetch_20newsgroups(subset='train', shuffle=True)\n",
    "print(len(twenty_train))\n",
    "text_clf=Pipeline([('vect',CountVectorizer()),('tfidf',TfidfTransformer()),('clf',MultinomialNB())])\n",
    "text_clf=text_clf.fit(twenty_train.data,twenty_train.target)\n",
    "twenty_test=fetch_20newsgroups(subset='test', shuffle=True)\n",
    "predicted=text_clf.predict(twenty_test.data)\n",
    "accuracy=np.mean(predicted == twenty_test.target)\n",
    "print(accuracy)\n",
    "print(metrics.accuracy_score(twenty_test.target,predicted))\n",
    "print(metrics.precision_score(twenty_test.target,predicted,average=None))\n",
    "print(metrics.recall_score(twenty_test.target,predicted,average=None))\n",
    "print(metrics.classification_report(twenty_test.target,predicted,target_names=twenty_test.target_names))"
   ]
  },
  {
   "cell_type": "markdown",
   "metadata": {},
   "source": [
    "### Program - 8B\n",
    "#### Question: Apply EM algorithm to cluster a set of data stored in a .CSV file. Use the same data set for clustering using K-Means algorithm. Compare the results of these two algorithms and comment on the quality of clustering. You can add Java/Python ML library classes/API in the program.\n",
    "##### K-Means Algorithm"
   ]
  },
  {
   "cell_type": "code",
   "execution_count": 4,
   "metadata": {},
   "outputs": [
    {
     "name": "stdout",
     "output_type": "stream",
     "text": [
      "[5 9 8 4 7 2 3 1 6 4 6]\n"
     ]
    },
    {
     "data": {
      "image/png": "[encoded data removed]",
      "text/plain": [
       "<Figure size 432x288 with 1 Axes>"
      ]
     },
     "metadata": {
      "needs_background": "light"
     },
     "output_type": "display_data"
    },
    {
     "data": {
      "image/png": "[encoded data removed]",
      "text/plain": [
       "<Figure size 432x288 with 1 Axes>"
      ]
     },
     "metadata": {
      "needs_background": "light"
     },
     "output_type": "display_data"
    }
   ],
   "source": [
    "from sklearn.cluster import KMeans\n",
    "from sklearn import metrics\n",
    "import numpy as np\n",
    "import matplotlib.pyplot as plt\n",
    "import csv\n",
    "data=[]\n",
    "ydata=[]\n",
    "with open(\"Ex08.csv\") as tsv:\n",
    "    for line in csv.reader(tsv):\n",
    "        data=[int(i) for i in line]\n",
    "        ydata=[10-int(i) for i in line]\n",
    "x1=np.array(data)\n",
    "x2=np.array(ydata)\n",
    "print(x1)\n",
    "plt.plot()\n",
    "plt.xlim([0,10])\n",
    "plt.ylim([0,10])\n",
    "plt.title('Dataset')\n",
    "plt.scatter(x1,x2)\n",
    "plt.show()\n",
    "plt.plot()\n",
    "x=np.array(list(zip(x1,x2))).reshape(len(x1),2)\n",
    "colors=['b','g','r']\n",
    "markers=['o','v','s']\n",
    "K=3\n",
    "kmeans_model=KMeans(n_clusters=K).fit(x)\n",
    "plt.plot()\n",
    "for i, l in enumerate(kmeans_model.labels_):\n",
    "    plt.plot(x1[i],x2[i],color=colors[l],marker=markers[l],ls='None')\n",
    "    plt.xlim([0,10])\n",
    "    plt.ylim([0,10])\n",
    "plt.show()"
   ]
  },
  {
   "cell_type": "markdown",
   "metadata": {},
   "source": [
    "### Program - 9\n",
    "#### Question: Write a program to implement K-Nearest Neighbour algorithm to classify the iris data set. Print both correct and wrong predictions. Java/Python ML library classes can be used for this problem."
   ]
  },
  {
   "cell_type": "code",
   "execution_count": 5,
   "metadata": {},
   "outputs": [
    {
     "name": "stdout",
     "output_type": "stream",
     "text": [
      "Y_Pred  Y_Test\n",
      "2 \t 2\n",
      "1 \t 1\n",
      "0 \t 0\n",
      "2 \t 2\n",
      "0 \t 0\n",
      "2 \t 2\n",
      "0 \t 0\n",
      "1 \t 1\n",
      "1 \t 1\n",
      "1 \t 1\n",
      "2 \t 2\n",
      "1 \t 1\n",
      "1 \t 1\n",
      "1 \t 1\n",
      "2 \t 1\n",
      "0 \t 0\n",
      "1 \t 1\n",
      "1 \t 1\n",
      "0 \t 0\n",
      "0 \t 0\n",
      "2 \t 2\n",
      "1 \t 1\n",
      "0 \t 0\n",
      "0 \t 0\n",
      "2 \t 2\n",
      "0 \t 0\n",
      "0 \t 0\n",
      "1 \t 1\n",
      "1 \t 1\n",
      "0 \t 0\n",
      "[[11  0  0]\n",
      " [ 0 12  1]\n",
      " [ 0  0  6]]\n",
      "96.67 %\n"
     ]
    }
   ],
   "source": [
    "import numpy as np\n",
    "import pandas as pd\n",
    "from sklearn.preprocessing import LabelEncoder\n",
    "from sklearn.model_selection import train_test_split\n",
    "from sklearn.neighbors import KNeighborsClassifier\n",
    "from sklearn.metrics import confusion_matrix \n",
    "from sklearn.metrics import accuracy_score\n",
    "dataset=pd.read_csv('Ex09.csv')\n",
    "f_c=['sepal_length','sepal_width','petal_length','petal_width']\n",
    "x=dataset[f_c].values\n",
    "y=dataset['species'].values\n",
    "le=LabelEncoder()\n",
    "y=le.fit_transform(y)\n",
    "x_train,x_test,y_train,y_test=train_test_split(x,y,test_size=0.2, random_state=0)\n",
    "classifier=KNeighborsClassifier(n_neighbors=3)\n",
    "classifier.fit(x_train,y_train)\n",
    "y_pred=classifier.predict(x_test)\n",
    "print(\"Y_Pred  Y_Test\")\n",
    "for i in range(len(y_pred)):\n",
    "    print(y_pred[i],\"\\t\",y_test[i])\n",
    "cm=confusion_matrix(y_test,y_pred)\n",
    "print(cm)\n",
    "accuracy=accuracy_score(y_test,y_pred)*100\n",
    "print(round(accuracy,2),\"%\")"
   ]
  },
  {
   "cell_type": "markdown",
   "metadata": {},
   "source": [
    "### Program - 10\n",
    "#### Question: Apply EM algorithm to cluster a set of data stored in a .CSV file. Use the same data set for clustering using K-Means algorithm. Compare the results of these two algorithms and comment on the quality of clustering. You can add Java/Python ML library classes/API in the program."
   ]
  },
  {
   "cell_type": "code",
   "execution_count": 6,
   "metadata": {},
   "outputs": [
    {
     "name": "stdout",
     "output_type": "stream",
     "text": [
      "(80, 2)\n"
     ]
    },
    {
     "data": {
      "text/plain": [
       "Text(0, 0.5, 'colB')"
      ]
     },
     "execution_count": 6,
     "metadata": {},
     "output_type": "execute_result"
    },
    {
     "data": {
      "image/png": "[encoded data removed]",
      "text/plain": [
       "<Figure size 432x288 with 1 Axes>"
      ]
     },
     "metadata": {
      "needs_background": "light"
     },
     "output_type": "display_data"
    }
   ],
   "source": [
    "import numpy as np\n",
    "import pandas as pd\n",
    "import matplotlib.pyplot as plt\n",
    "def kernel(point,xmat,k):\n",
    "    m,n=np.shape(xmat)\n",
    "    weights=np.mat(np.eye(m))\n",
    "    for j in range(m):\n",
    "        diff=point-x[j]\n",
    "        weights[j,j]=np.exp(diff*diff.T/(-2.0*k**2))\n",
    "    return weights\n",
    "def localWeight(point,xmat,ymat,k):\n",
    "    wei=kernel(point,xmat,k)\n",
    "    W=(x.T*(wei*x)).I*(x.T*(wei*ymat.T))\n",
    "    return W\n",
    "def localWeightRegression(xmat,ymat,k):\n",
    "    m,n=np.shape(xmat)\n",
    "    ypred=np.zeros(m)\n",
    "    for i in range(m):\n",
    "        ypred[i]=xmat[i]*localWeight(xmat[i],xmat,ymat,k)\n",
    "    return ypred\n",
    "data=pd.read_csv('Ex10.csv')\n",
    "colA=np.array(data.colA)\n",
    "colB=np.array(data.colB)\n",
    "mcolA=np.mat(colA)\n",
    "mcolB=np.mat(colB)\n",
    "m=np.shape(mcolA)[1]\n",
    "one=np.ones((1,m),dtype=int)\n",
    "x=np.hstack((one.T,mcolA.T))\n",
    "print(x.shape)\n",
    "ypred=localWeightRegression(x,mcolB,0.5)\n",
    "SortIndex=x[:,1].argsort(0)\n",
    "xsort=x[SortIndex][:,0]\n",
    "fig=plt.figure()\n",
    "ax=fig.add_subplot(1,1,1)\n",
    "ax.scatter(colA,colB,color='green')\n",
    "ax.plot(xsort[:,1],ypred[SortIndex],color='red',linewidth=5)\n",
    "plt.xlabel('colA')\n",
    "plt.ylabel('colB')"
   ]
  },
  {
   "cell_type": "code",
   "execution_count": null,
   "metadata": {},
   "outputs": [],
   "source": []
  }
 ],
 "metadata": {
  "kernelspec": {
   "display_name": "Python 3",
   "language": "python",
   "name": "python3"
  },
  "language_info": {
   "codemirror_mode": {
    "name": "ipython",
    "version": 3
   },
   "file_extension": ".py",
   "mimetype": "text/x-python",
   "name": "python",
   "nbconvert_exporter": "python",
   "pygments_lexer": "ipython3",
   "version": "3.8.3"
  }
 },
 "nbformat": 4,
 "nbformat_minor": 4
}
